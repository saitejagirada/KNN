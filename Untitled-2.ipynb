{
 "cells": [
  {
   "cell_type": "code",
   "execution_count": 22,
   "id": "ee0b96c0-492e-4609-b3dd-856c4f38fb99",
   "metadata": {},
   "outputs": [],
   "source": [
    "import numpy as np\n",
    "import pandas as pd\n",
    "from sklearn.model_selection import train_test_split\n",
    "from sklearn import datasets\n",
    "from collections import Counter"
   ]
  },
  {
   "cell_type": "code",
   "execution_count": 23,
   "id": "16dcc282-2187-4568-a263-aceac720c245",
   "metadata": {},
   "outputs": [],
   "source": [
    "def pred(a,b):\n",
    "    accuracy=np.sum(a==b)/len(a)\n",
    "    return accuracy*100"
   ]
  },
  {
   "cell_type": "code",
   "execution_count": 24,
   "id": "9bdbdbe2-0388-40d0-9822-106d91f68136",
   "metadata": {},
   "outputs": [],
   "source": [
    "iris=datasets.load_iris()\n",
    "X,Y=iris.data,iris.target\n",
    "x_train,x_test,y_train,y_test=train_test_split(X,Y,test_size=0.2,random_state=42)"
   ]
  },
  {
   "cell_type": "code",
   "execution_count": 25,
   "id": "e8b353c4-f8d9-47bf-a8db-ca0d5551be9a",
   "metadata": {},
   "outputs": [],
   "source": [
    "def euclid(x,y):\n",
    "    return np.sqrt(np.sum((y-x)**2))"
   ]
  },
  {
   "cell_type": "code",
   "execution_count": 26,
   "id": "4767aa10-54ba-41ac-a98a-c27771facd59",
   "metadata": {},
   "outputs": [],
   "source": [
    "class KNN():\n",
    "    def __init__(self,k=3):\n",
    "        self.k=k\n",
    "    def fit(self,X,Y):\n",
    "        self.X_train=X\n",
    "        self.Y_train=Y\n",
    "    def predict(self,X):\n",
    "        y=[self._predict(x) for x in X]\n",
    "        return np.array(y)\n",
    "    def _predict(self,x):\n",
    "        a=[euclid(x,x_train) for x_train in self.X_train]\n",
    "        kidx=np.argsort(a)[:self.k]\n",
    "        kidx=[self.Y_train[i] for i in kidx]\n",
    "        most=Counter(kidx).most_common(1)\n",
    "        return most[0][0]"
   ]
  },
  {
   "cell_type": "code",
   "execution_count": 27,
   "id": "de4e2303-d21e-443a-a5b4-f14a047a47ce",
   "metadata": {},
   "outputs": [
    {
     "name": "stdout",
     "output_type": "stream",
     "text": [
      "100.0\n"
     ]
    }
   ],
   "source": [
    "cls=KNN(k=2)\n",
    "cls.fit(x_train,y_train)\n",
    "a=cls.predict(x_test)\n",
    "print(pred(a,y_test))"
   ]
  },
  {
   "cell_type": "code",
   "execution_count": 28,
   "id": "c199fcf3-693d-40e5-b03f-6ceda983a20c",
   "metadata": {},
   "outputs": [],
   "source": [
    "def yyi(x):\n",
    "    if x == 0:\n",
    "        return 0\n",
    "    ca = KNN(k=x)\n",
    "    ca.fit(x_train, y_train)\n",
    "    new_predictions = ca.predict(x_test)\n",
    "    return int(pred(new_predictions, y_test))"
   ]
  },
  {
   "cell_type": "code",
   "execution_count": 29,
   "id": "52302d4f-6aad-4ebb-b632-e0f16846228a",
   "metadata": {},
   "outputs": [
    {
     "name": "stdout",
     "output_type": "stream",
     "text": [
      "CPU times: user 938 ms, sys: 15.2 ms, total: 953 ms\n",
      "Wall time: 945 ms\n"
     ]
    }
   ],
   "source": [
    "%%time\n",
    "li=[]\n",
    "for i in range(100):\n",
    "    clm=yyi(i)\n",
    "    li.append(clm)"
   ]
  },
  {
   "cell_type": "code",
   "execution_count": 30,
   "id": "89a803a7-d439-4bb6-a15d-3c65c9e51d03",
   "metadata": {},
   "outputs": [
    {
     "data": {
      "text/plain": [
       "array([  0, 100, 100, 100, 100, 100, 100,  96, 100, 100, 100, 100, 100,\n",
       "       100, 100, 100, 100, 100, 100, 100, 100, 100, 100, 100, 100, 100,\n",
       "       100, 100, 100, 100, 100, 100, 100, 100, 100, 100, 100, 100, 100,\n",
       "       100, 100, 100, 100, 100, 100, 100, 100,  96,  96,  96,  96,  96,\n",
       "        96,  96,  96,  96,  96,  96,  96,  96,  96,  96,  96,  96,  96,\n",
       "        96,  96,  96,  96,  96,  96,  96,  96,  96,  96,  93,  96,  96,\n",
       "        96,  63,  63,  63,  63,  63,  63,  63,  63,  63,  60,  56,  53,\n",
       "        53,  46,  30,  30,  30,  30,  30,  30,  30])"
      ]
     },
     "execution_count": 30,
     "metadata": {},
     "output_type": "execute_result"
    }
   ],
   "source": [
    "np.array(li)"
   ]
  },
  {
   "cell_type": "code",
   "execution_count": null,
   "id": "21f3e653-d59a-46ae-9c63-a43833c16c06",
   "metadata": {},
   "outputs": [],
   "source": []
  }
 ],
 "metadata": {
  "kernelspec": {
   "display_name": "Python 3 (ipykernel)",
   "language": "python",
   "name": "python3"
  },
  "language_info": {
   "codemirror_mode": {
    "name": "ipython",
    "version": 3
   },
   "file_extension": ".py",
   "mimetype": "text/x-python",
   "name": "python",
   "nbconvert_exporter": "python",
   "pygments_lexer": "ipython3",
   "version": "3.8.20"
  }
 },
 "nbformat": 4,
 "nbformat_minor": 5
}
